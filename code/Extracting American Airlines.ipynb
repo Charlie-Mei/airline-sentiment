{
 "cells": [
  {
   "cell_type": "code",
   "execution_count": 1,
   "metadata": {},
   "outputs": [],
   "source": [
    "# Load deduplicated json file\n",
    "import json\n",
    "airlines=open(\"C:/Users/tramh/Downloads/Columbia Courses/APAN 5430/Project proposal/Airlines_dedup.json\").readlines()"
   ]
  },
  {
   "cell_type": "code",
   "execution_count": 2,
   "metadata": {},
   "outputs": [],
   "source": [
    "# Extract titles from json data\n",
    "feed_titles = []\n",
    "\n",
    "for feed in airlines:\n",
    "    a = json.loads(feed)\n",
    "    feed_titles.append(a['title'])"
   ]
  },
  {
   "cell_type": "code",
   "execution_count": 3,
   "metadata": {},
   "outputs": [],
   "source": [
    "# Extract list of titles that mentioned American Airlines:\n",
    "aa_titles = []\n",
    "for i in feed_titles:\n",
    "    if 'American Air' in i:\n",
    "        aa_titles.append(i)"
   ]
  },
  {
   "cell_type": "code",
   "execution_count": 4,
   "metadata": {},
   "outputs": [
    {
     "data": {
      "text/plain": [
       "456"
      ]
     },
     "execution_count": 4,
     "metadata": {},
     "output_type": "execute_result"
    }
   ],
   "source": [
    "len(aa_titles)"
   ]
  },
  {
   "cell_type": "code",
   "execution_count": 5,
   "metadata": {},
   "outputs": [],
   "source": [
    "# Extract text from json data\n",
    "feed_text = []\n",
    "\n",
    "for feed in airlines:\n",
    "    a = json.loads(feed)\n",
    "    feed_text.append(a['text'])"
   ]
  },
  {
   "cell_type": "code",
   "execution_count": 6,
   "metadata": {},
   "outputs": [],
   "source": [
    "# Extract list of text that mentioned American Airlines:\n",
    "aa_text = []\n",
    "for i in feed_text:\n",
    "    if 'American Air' in i:\n",
    "        aa_text.append(i)"
   ]
  },
  {
   "cell_type": "code",
   "execution_count": 7,
   "metadata": {},
   "outputs": [
    {
     "data": {
      "text/plain": [
       "999"
      ]
     },
     "execution_count": 7,
     "metadata": {},
     "output_type": "execute_result"
    }
   ],
   "source": [
    "len(aa_text)"
   ]
  }
 ],
 "metadata": {
  "kernelspec": {
   "display_name": "Python 3",
   "language": "python",
   "name": "python3"
  },
  "language_info": {
   "codemirror_mode": {
    "name": "ipython",
    "version": 3
   },
   "file_extension": ".py",
   "mimetype": "text/x-python",
   "name": "python",
   "nbconvert_exporter": "python",
   "pygments_lexer": "ipython3",
   "version": "3.7.3"
  }
 },
 "nbformat": 4,
 "nbformat_minor": 2
}
